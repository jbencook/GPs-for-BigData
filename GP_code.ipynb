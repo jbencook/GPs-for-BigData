{
 "metadata": {
  "name": ""
 },
 "nbformat": 3,
 "nbformat_minor": 0,
 "worksheets": [
  {
   "cells": [
    {
     "cell_type": "code",
     "collapsed": false,
     "input": [
      "import pandas as pd\n",
      "import numpy as np\n",
      "import time\n",
      "import matplotlib.pyplot as plt\n",
      "import scipy.stats as ss\n",
      "import scipy.optimize as so\n",
      "import sklearn.cross_validation as cv"
     ],
     "language": "python",
     "metadata": {},
     "outputs": [],
     "prompt_number": 1
    },
    {
     "cell_type": "code",
     "collapsed": false,
     "input": [
      "df = pd.read_table('parana.txt', delimiter=' ')"
     ],
     "language": "python",
     "metadata": {},
     "outputs": [],
     "prompt_number": 2
    },
    {
     "cell_type": "code",
     "collapsed": false,
     "input": [
      "X = np.array(df[['east', 'north']])\n",
      "y = np.array(df['data'])"
     ],
     "language": "python",
     "metadata": {},
     "outputs": [],
     "prompt_number": 3
    },
    {
     "cell_type": "code",
     "collapsed": false,
     "input": [
      "X, tstx, y, tsty = cv.train_test_split(X, y)"
     ],
     "language": "python",
     "metadata": {},
     "outputs": [],
     "prompt_number": 4
    },
    {
     "cell_type": "code",
     "collapsed": false,
     "input": [
      "N = X.shape[0]\n",
      "noise = 1e-6"
     ],
     "language": "python",
     "metadata": {},
     "outputs": [],
     "prompt_number": 5
    },
    {
     "cell_type": "code",
     "collapsed": false,
     "input": [
      "plt.plot(X[:,0], X[:,1], '.', alpha=.5)\n",
      "plt.xlim([X[:,0].min() - .001, X[:,0].max() + .001])\n",
      "plt.ylim([X[:,1].min() - .001, X[:,1].max() + .001])\n",
      "plt.show()"
     ],
     "language": "python",
     "metadata": {},
     "outputs": [
      {
       "metadata": {},
       "output_type": "display_data",
       "png": "[encoded data removed]",
       "text": [
        "<matplotlib.figure.Figure at 0x43e86d0>"
       ]
      }
     ],
     "prompt_number": 6
    },
    {
     "cell_type": "code",
     "collapsed": false,
     "input": [
      "def squared_exponential(xj, *args):\n",
      "    xi, sigma2, length = args\n",
      "    return sigma2 * np.exp(-.5 * np.square(np.linalg.norm(xi - xj)) / length)\n",
      "\n",
      "def exponential(xj, *args):\n",
      "    xi, sigma2, length = args\n",
      "    return sigma2  * np.exp(np.linalg.norm(xi - xj) / length)\n",
      "\n",
      "def matern_32(xj, *args):\n",
      "    xi, sigma2, length = args\n",
      "    return sigma2 * (1 + np.linalg.norm(xi - xj) / length) * np.exp(-np.sqrt(3) * np.linalg.norm(xi - xj) / length)\n",
      "\n",
      "def covariance(f, xi, xj, sigma2, length):\n",
      "    K = np.zeros((xi.shape[0], xj.shape[0]))\n",
      "    for i in xrange(xi.shape[0]):\n",
      "        K[i,:] = np.apply_along_axis(f, 1, xj, xi[i,:], sigma2, length)\n",
      "    return K"
     ],
     "language": "python",
     "metadata": {},
     "outputs": [],
     "prompt_number": 7
    },
    {
     "cell_type": "code",
     "collapsed": false,
     "input": [
      "sigma2, length = 1., 500\n",
      "\n",
      "K = covariance(matern_32, X, X, sigma2, length) + noise * np.eye(X.shape[0])\n",
      "K_test = covariance(matern_32, tstx, X, sigma2, length)\n",
      "\n",
      "yhat = K_test.dot(np.linalg.pinv(K)).dot(y)\n",
      "\n",
      "print np.linalg.norm(tsty - yhat)"
     ],
     "language": "python",
     "metadata": {},
     "outputs": [
      {
       "output_type": "stream",
       "stream": "stdout",
       "text": [
        "152.724576253\n"
       ]
      }
     ],
     "prompt_number": 8
    },
    {
     "cell_type": "code",
     "collapsed": false,
     "input": [
      "# Note: the y = x line is a perfect fit\n",
      "plt.plot(tsty, yhat, 'o')\n",
      "\n",
      "plt.title('Accuracy')\n",
      "plt.xlabel('Observed Y')\n",
      "plt.ylabel('Predicted Y')\n",
      "plt.show()"
     ],
     "language": "python",
     "metadata": {},
     "outputs": [
      {
       "metadata": {},
       "output_type": "display_data",
       "png": "[encoded data removed]",
       "text": [
        "<matplotlib.figure.Figure at 0x4408a50>"
       ]
      }
     ],
     "prompt_number": 9
    },
    {
     "cell_type": "code",
     "collapsed": false,
     "input": [
      "r = 10\n",
      "\n",
      "# Step 1: Form the matrix product C \\Omega\n",
      "O = np.random.normal(0, 1, size=(N, r)) / np.sqrt(r)\n",
      "KO = K.dot(O)\n",
      "\n",
      "# Step 2: Compute \\Phi^T, the left factor of the rank-m spectral projection of the small matrix C \\Omega.\n",
      "U, _, _ = np.linalg.svd(KO)\n",
      "phi = U.T\n",
      "\n",
      "# Step 3: C_1 = \\Phi C \\Phi^T\n",
      "C_1 = phi.dot(K).dot(phi.T)\n",
      "\n",
      "# Step 4:  Perform a Cholesky factorization of C1 = B B^T\n",
      "B = np.linalg.cholesky(C_1)\n",
      "\n",
      "# Step 5: Calculate the Nystrom factor C_2 = C^T (B^T)^{\u22121}\n",
      "C_2 = K.dot(phi.T).dot(np.linalg.pinv(B.T))\n",
      "\n",
      "# Step 6: Compute a singular value decomposition for C_2 = U D V^T\n",
      "U, D, V = np.linalg.svd(C_2)\n",
      "D = np.diag(D)\n",
      "\n",
      "# Step 7: Calculate the approximate spectral decomposition for C \\approx C_fr = U D^2 U^T\n",
      "Q_ff = U.dot(D).dot(D).dot(U.T)"
     ],
     "language": "python",
     "metadata": {},
     "outputs": [],
     "prompt_number": 10
    },
    {
     "cell_type": "code",
     "collapsed": false,
     "input": [
      "in_term = np.diag(1 / (np.linalg.pinv(D).dot(np.linalg.pinv(D)) + np.eye(D.shape[0]) / sigma2).diagonal())\n",
      "sigma_inv = np.eye(N) / sigma2  - U.dot(in_term).dot(U.T) / np.square(sigma2)"
     ],
     "language": "python",
     "metadata": {},
     "outputs": [],
     "prompt_number": 11
    },
    {
     "cell_type": "code",
     "collapsed": false,
     "input": [
      "yhat = K_test.dot(sigma_inv).dot(y)\n",
      "\n",
      "print np.linalg.norm(tsty - yhat)"
     ],
     "language": "python",
     "metadata": {},
     "outputs": [
      {
       "output_type": "stream",
       "stream": "stdout",
       "text": [
        "218.776197591\n"
       ]
      }
     ],
     "prompt_number": 12
    },
    {
     "cell_type": "code",
     "collapsed": false,
     "input": [
      "# Note: the y = x line is a perfect fit\n",
      "plt.plot(tsty, yhat, 'o')\n",
      "\n",
      "plt.title('Accuracy')\n",
      "plt.xlabel('Observed Y')\n",
      "plt.ylabel('Predicted Y')\n",
      "plt.show()"
     ],
     "language": "python",
     "metadata": {},
     "outputs": [
      {
       "metadata": {},
       "output_type": "display_data",
       "png": "[encoded data removed]",
       "text": [
        "<matplotlib.figure.Figure at 0x43fc310>"
       ]
      }
     ],
     "prompt_number": 13
    }
   ],
   "metadata": {}
  }
 ]
}