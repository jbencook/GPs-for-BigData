{
 "metadata": {
  "name": ""
 },
 "nbformat": 3,
 "nbformat_minor": 0,
 "worksheets": [
  {
   "cells": [
    {
     "cell_type": "code",
     "collapsed": false,
     "input": [
      "%matplotlib inline\n",
      "import pandas as pd\n",
      "import numpy as np\n",
      "import time\n",
      "import matplotlib.pyplot as plt\n",
      "import scipy.stats as ss\n",
      "import scipy.optimize as so\n",
      "import scipy.spatial as sp\n",
      "import sklearn.cross_validation as cv\n",
      "\n",
      "def normalize_01(x):\n",
      "    return (x - x.min()) / (x.max() - x.min())\n",
      "\n",
      "def mean_center(x):\n",
      "    return (x - x.mean()) / x.std()"
     ],
     "language": "python",
     "metadata": {},
     "outputs": [],
     "prompt_number": 49
    },
    {
     "cell_type": "code",
     "collapsed": false,
     "input": [
      "df = pd.read_table('parana.txt', delimiter=' ')"
     ],
     "language": "python",
     "metadata": {},
     "outputs": [],
     "prompt_number": 50
    },
    {
     "cell_type": "code",
     "collapsed": false,
     "input": [
      "X = np.array(df[['east', 'north']])\n",
      "\n",
      "#Normalize to [0,1]\n",
      "X[:,0] = normalize_01(X[:,0])\n",
      "X[:,1] = normalize_01(X[:,1])\n",
      "\n",
      "y = np.array(df['data'])\n",
      "\n",
      "#Mean-center\n",
      "y = mean_center(y)"
     ],
     "language": "python",
     "metadata": {},
     "outputs": [],
     "prompt_number": 51
    },
    {
     "cell_type": "code",
     "collapsed": false,
     "input": [
      "X, tstx, y, tsty = cv.train_test_split(X, y)"
     ],
     "language": "python",
     "metadata": {},
     "outputs": [],
     "prompt_number": 52
    },
    {
     "cell_type": "code",
     "collapsed": false,
     "input": [
      "N = X.shape[0]\n",
      "noise = 1e-6"
     ],
     "language": "python",
     "metadata": {},
     "outputs": [],
     "prompt_number": 53
    },
    {
     "cell_type": "code",
     "collapsed": false,
     "input": [
      "plt.plot(X[:,0], X[:,1], '.', alpha=.5)\n",
      "plt.xlim([X[:,0].min() - .001, X[:,0].max() + .001])\n",
      "plt.ylim([X[:,1].min() - .001, X[:,1].max() + .001])\n",
      "plt.show()"
     ],
     "language": "python",
     "metadata": {},
     "outputs": [
      {
       "metadata": {},
       "output_type": "display_data",
       "png": "[encoded data removed]",
       "text": [
        "<matplotlib.figure.Figure at 0x10a87b3d0>"
       ]
      }
     ],
     "prompt_number": 54
    },
    {
     "cell_type": "code",
     "collapsed": false,
     "input": [
      "def squared_exponential(d, phi):\n",
      "    return np.exp( -np.square(d) / phi)\n",
      "\n",
      "def exponential(d, phi):\n",
      "    return np.exp( -d / phi)\n",
      "\n",
      "def matern_32(d, phi):\n",
      "    rhs = np.sqrt(3) * d / phi\n",
      "    return (1 + rhs) * np.exp(-rhs)\n",
      "\n",
      "def covariance(f, xi, xj, phi):\n",
      "    d = sp.distance_matrix(xi, xj)\n",
      "    return f(d, phi)"
     ],
     "language": "python",
     "metadata": {},
     "outputs": [],
     "prompt_number": 55
    },
    {
     "cell_type": "code",
     "collapsed": false,
     "input": [
      "phi = 1\n",
      "cov = exponential\n",
      "\n",
      "K = covariance(cov, X, X, phi) + noise * np.eye(X.shape[0])\n",
      "K_test = covariance(cov, tstx, X, phi)\n",
      "\n",
      "yhat = K_test.dot(np.linalg.pinv(K)).dot(y)\n",
      "\n",
      "print 'relative error = %.3f' % (np.linalg.norm(tsty - yhat) / np.linalg.norm(tsty))"
     ],
     "language": "python",
     "metadata": {},
     "outputs": [
      {
       "output_type": "stream",
       "stream": "stdout",
       "text": [
        "relative error = 0.385\n"
       ]
      }
     ],
     "prompt_number": 56
    },
    {
     "cell_type": "code",
     "collapsed": false,
     "input": [
      "# Note: the y = x line is a perfect fit\n",
      "plt.plot(tsty, yhat, 'o')\n",
      "\n",
      "plt.title('Accuracy')\n",
      "plt.xlabel('Observed Y')\n",
      "plt.ylabel('Predicted Y')\n",
      "plt.show()"
     ],
     "language": "python",
     "metadata": {},
     "outputs": [
      {
       "metadata": {},
       "output_type": "display_data",
       "png": "[encoded data removed]",
       "text": [
        "<matplotlib.figure.Figure at 0x10a870ed0>"
       ]
      }
     ],
     "prompt_number": 57
    },
    {
     "cell_type": "code",
     "collapsed": false,
     "input": [
      "r = 10\n",
      "\n",
      "# Step 1: Form the matrix product C \\Omega\n",
      "O = np.random.normal(0, 1, size=(N, r)) / np.sqrt(r)\n",
      "KO = K.dot(O)\n",
      "\n",
      "# Step 2: Compute \\Phi^T, the left factor of the rank-m spectral projection of the small matrix C \\Omega.\n",
      "U, _, _ = np.linalg.svd(KO, full_matrices=False)\n",
      "phi = U.T\n",
      "\n",
      "# Step 3: C_1 = \\Phi C \\Phi^T\n",
      "C_1 = phi.dot(K).dot(phi.T)\n",
      "\n",
      "# Step 4:  Perform a Cholesky factorization of C1 = B B^T\n",
      "B = np.linalg.cholesky(C_1)\n",
      "\n",
      "# Step 5: Calculate the Nystrom factor C_2 = C^T (B^T)^{\u22121}\n",
      "C_2 = K.dot(phi.T).dot(np.linalg.pinv(B.T))\n",
      "\n",
      "# Step 6: Compute a singular value decomposition for C_2 = U D V^T\n",
      "U, D, V = np.linalg.svd(C_2, full_matrices=False)\n",
      "D = np.diag(D)\n",
      "\n",
      "# Step 7: Calculate the approximate spectral decomposition for C \\approx C_fr = U D^2 U^T\n",
      "Q_ff = U.dot(D).dot(D).dot(U.T)"
     ],
     "language": "python",
     "metadata": {},
     "outputs": [],
     "prompt_number": 58
    },
    {
     "cell_type": "code",
     "collapsed": false,
     "input": [
      "in_term = np.diag(1 / (np.linalg.pinv(D).dot(np.linalg.pinv(D)) + np.eye(D.shape[0])).diagonal())\n",
      "sigma_inv = np.eye(N)  - U.dot(in_term).dot(U.T)"
     ],
     "language": "python",
     "metadata": {},
     "outputs": [],
     "prompt_number": 59
    },
    {
     "cell_type": "code",
     "collapsed": false,
     "input": [
      "yhat = K_test.dot(sigma_inv).dot(y)\n",
      "\n",
      "print 'relative error = %.3f' % (np.linalg.norm(tsty - yhat) / np.linalg.norm(tsty))"
     ],
     "language": "python",
     "metadata": {},
     "outputs": [
      {
       "output_type": "stream",
       "stream": "stdout",
       "text": [
        "relative error = 0.415\n"
       ]
      }
     ],
     "prompt_number": 60
    },
    {
     "cell_type": "code",
     "collapsed": false,
     "input": [
      "# Note: the y = x line is a perfect fit\n",
      "plt.plot(tsty, yhat, 'o')\n",
      "\n",
      "plt.title('Accuracy')\n",
      "plt.xlabel('Observed Y')\n",
      "plt.ylabel('Predicted Y')\n",
      "plt.show()"
     ],
     "language": "python",
     "metadata": {},
     "outputs": [
      {
       "metadata": {},
       "output_type": "display_data",
       "png": "[encoded data removed]",
       "text": [
        "<matplotlib.figure.Figure at 0x10aa01490>"
       ]
      }
     ],
     "prompt_number": 61
    },
    {
     "cell_type": "code",
     "collapsed": false,
     "input": [],
     "language": "python",
     "metadata": {},
     "outputs": [],
     "prompt_number": 61
    }
   ],
   "metadata": {}
  }
 ]
}