{
 "metadata": {
  "name": ""
 },
 "nbformat": 3,
 "nbformat_minor": 0,
 "worksheets": [
  {
   "cells": [
    {
     "cell_type": "code",
     "collapsed": false,
     "input": [
      "import pandas as pd\n",
      "import numpy as np\n",
      "import time\n",
      "import matplotlib.pyplot as plt\n",
      "import scipy.stats as ss"
     ],
     "language": "python",
     "metadata": {},
     "outputs": [],
     "prompt_number": 408
    },
    {
     "cell_type": "code",
     "collapsed": false,
     "input": [
      "pd.read_table(''"
     ],
     "language": "python",
     "metadata": {},
     "outputs": []
    },
    {
     "cell_type": "code",
     "collapsed": false,
     "input": [
      "df = pd.read_csv('holoubek_wmk5_2009.csv')"
     ],
     "language": "python",
     "metadata": {},
     "outputs": [],
     "prompt_number": 409
    },
    {
     "cell_type": "code",
     "collapsed": false,
     "input": [
      "N = np.floor(len(df) * .05)\n",
      "sigma2 = 1e-6\n",
      "indices = np.random.randint(0, len(df), size=N)\n",
      "s,l = .5, .5"
     ],
     "language": "python",
     "metadata": {},
     "outputs": [],
     "prompt_number": 410
    },
    {
     "cell_type": "code",
     "collapsed": false,
     "input": [
      "plt.plot(df.lon[indices], df.lat[indices], '.', alpha=.1)\n",
      "plt.xlim([df.lon.min() - .001, df.lon.max() + .001])\n",
      "plt.ylim([df.lat.min() - .001, df.lat.max() + .001])"
     ],
     "language": "python",
     "metadata": {},
     "outputs": [
      {
       "metadata": {},
       "output_type": "pyout",
       "prompt_number": 411,
       "text": [
        "(41.248947000000001, 41.256130999999996)"
       ]
      },
      {
       "metadata": {},
       "output_type": "display_data",
       "png": "[encoded data removed]",
       "text": [
        "<matplotlib.figure.Figure at 0x470e350>"
       ]
      }
     ],
     "prompt_number": 411
    },
    {
     "cell_type": "code",
     "collapsed": false,
     "input": [
      "df['s'] = [np.array([df.lon.irow(i), df.lat.irow(i)]) for i in xrange(len(df))]"
     ],
     "language": "python",
     "metadata": {},
     "outputs": [],
     "prompt_number": 412
    },
    {
     "cell_type": "code",
     "collapsed": false,
     "input": [
      "df_small = df.irow(indices)"
     ],
     "language": "python",
     "metadata": {},
     "outputs": [],
     "prompt_number": 413
    },
    {
     "cell_type": "code",
     "collapsed": false,
     "input": [
      "df_small.head()"
     ],
     "language": "python",
     "metadata": {},
     "outputs": [
      {
       "html": [
        "<div style=\"max-height:1000px;max-width:1500px;overflow:auto;\">\n",
        "<table border=\"1\" class=\"dataframe\">\n",
        "  <thead>\n",
        "    <tr style=\"text-align: right;\">\n",
        "      <th></th>\n",
        "      <th>elevation</th>\n",
        "      <th>lat</th>\n",
        "      <th>lon</th>\n",
        "      <th>yld</th>\n",
        "      <th>s</th>\n",
        "    </tr>\n",
        "  </thead>\n",
        "  <tbody>\n",
        "    <tr>\n",
        "      <th>9684 </th>\n",
        "      <td> 1625.3281</td>\n",
        "      <td> 41.253146</td>\n",
        "      <td>-97.143685</td>\n",
        "      <td> 174.6574</td>\n",
        "      <td> [-97.143685, 41.253146]</td>\n",
        "    </tr>\n",
        "    <tr>\n",
        "      <th>12686</th>\n",
        "      <td> 1620.0787</td>\n",
        "      <td> 41.251734</td>\n",
        "      <td>-97.141979</td>\n",
        "      <td> 158.9769</td>\n",
        "      <td> [-97.141979, 41.251734]</td>\n",
        "    </tr>\n",
        "    <tr>\n",
        "      <th>3989 </th>\n",
        "      <td> 1623.6877</td>\n",
        "      <td> 41.252011</td>\n",
        "      <td>-97.146947</td>\n",
        "      <td> 153.8250</td>\n",
        "      <td> [-97.146947, 41.252011]</td>\n",
        "    </tr>\n",
        "    <tr>\n",
        "      <th>11729</th>\n",
        "      <td> 1626.6404</td>\n",
        "      <td> 41.251495</td>\n",
        "      <td>-97.143294</td>\n",
        "      <td> 177.4820</td>\n",
        "      <td> [-97.143294, 41.251495]</td>\n",
        "    </tr>\n",
        "    <tr>\n",
        "      <th>4452 </th>\n",
        "      <td> 1626.6404</td>\n",
        "      <td> 41.252988</td>\n",
        "      <td>-97.147066</td>\n",
        "      <td> 175.0112</td>\n",
        "      <td> [-97.147066, 41.252988]</td>\n",
        "    </tr>\n",
        "  </tbody>\n",
        "</table>\n",
        "<p>5 rows \u00d7 5 columns</p>\n",
        "</div>"
       ],
       "metadata": {},
       "output_type": "pyout",
       "prompt_number": 414,
       "text": [
        "       elevation        lat        lon       yld                        s\n",
        "9684   1625.3281  41.253146 -97.143685  174.6574  [-97.143685, 41.253146]\n",
        "12686  1620.0787  41.251734 -97.141979  158.9769  [-97.141979, 41.251734]\n",
        "3989   1623.6877  41.252011 -97.146947  153.8250  [-97.146947, 41.252011]\n",
        "11729  1626.6404  41.251495 -97.143294  177.4820  [-97.143294, 41.251495]\n",
        "4452   1626.6404  41.252988 -97.147066  175.0112  [-97.147066, 41.252988]\n",
        "\n",
        "[5 rows x 5 columns]"
       ]
      }
     ],
     "prompt_number": 414
    },
    {
     "cell_type": "code",
     "collapsed": false,
     "input": [
      "def k(x1, x2, *args):\n",
      "    s,l = args\n",
      "    return np.square(s) * np.exp(-(1/2.) * np.square(np.linalg.norm(x1 - x2)) / np.square(l))"
     ],
     "language": "python",
     "metadata": {},
     "outputs": [],
     "prompt_number": 415
    },
    {
     "cell_type": "code",
     "collapsed": false,
     "input": [
      "def cov_mat(df, cov_func, *args):\n",
      "    N = len(df)\n",
      "    K = np.eye(N)\n",
      "    tic = time.time()\n",
      "    for i in xrange(N):\n",
      "        if i % 100 == 0:\n",
      "            print i\n",
      "        for j in xrange(i,N):\n",
      "            K[i,j] = K[j,i] = cov_func(df.s.irow(i), df.s.irow(j), *args)\n",
      "    print time.time() - tic\n",
      "    return K"
     ],
     "language": "python",
     "metadata": {},
     "outputs": [],
     "prompt_number": 416
    },
    {
     "cell_type": "code",
     "collapsed": false,
     "input": [
      "K = cov_mat(df_small, k, 1, 1) + np.eye(N) * sigma2"
     ],
     "language": "python",
     "metadata": {},
     "outputs": [
      {
       "output_type": "stream",
       "stream": "stdout",
       "text": [
        "0\n",
        "100"
       ]
      },
      {
       "output_type": "stream",
       "stream": "stdout",
       "text": [
        "\n",
        "200"
       ]
      },
      {
       "output_type": "stream",
       "stream": "stdout",
       "text": [
        "\n",
        "300"
       ]
      },
      {
       "output_type": "stream",
       "stream": "stdout",
       "text": [
        "\n",
        "400"
       ]
      },
      {
       "output_type": "stream",
       "stream": "stdout",
       "text": [
        "\n",
        "500"
       ]
      },
      {
       "output_type": "stream",
       "stream": "stdout",
       "text": [
        "\n",
        "600"
       ]
      },
      {
       "output_type": "stream",
       "stream": "stdout",
       "text": [
        "\n",
        "700"
       ]
      },
      {
       "output_type": "stream",
       "stream": "stdout",
       "text": [
        "\n",
        "800"
       ]
      },
      {
       "output_type": "stream",
       "stream": "stdout",
       "text": [
        "\n",
        "20.1544079781"
       ]
      },
      {
       "output_type": "stream",
       "stream": "stdout",
       "text": [
        "\n"
       ]
      }
     ],
     "prompt_number": 417
    },
    {
     "cell_type": "code",
     "collapsed": false,
     "input": [
      "r = 10\n",
      "n = K.shape[0]\n",
      "omega = ss.norm(0,1).rvs(size=(n,r)) / np.sqrt(r)"
     ],
     "language": "python",
     "metadata": {},
     "outputs": [],
     "prompt_number": 418
    },
    {
     "cell_type": "code",
     "collapsed": false,
     "input": [
      "KOmeg = K.dot(omega)"
     ],
     "language": "python",
     "metadata": {},
     "outputs": [],
     "prompt_number": 419
    },
    {
     "cell_type": "code",
     "collapsed": false,
     "input": [
      "U,_,_ = np.linalg.svd(KOmeg, full_matrices=False)\n",
      "phi = U.T"
     ],
     "language": "python",
     "metadata": {},
     "outputs": [],
     "prompt_number": 420
    },
    {
     "cell_type": "code",
     "collapsed": false,
     "input": [
      "K_1 = phi.dot(K).dot(phi.T)"
     ],
     "language": "python",
     "metadata": {},
     "outputs": [],
     "prompt_number": 397
    },
    {
     "cell_type": "code",
     "collapsed": false,
     "input": [
      "B = np.linalg.cholesky(K_1)"
     ],
     "language": "python",
     "metadata": {},
     "outputs": [],
     "prompt_number": 398
    },
    {
     "cell_type": "code",
     "collapsed": false,
     "input": [
      "C = K.dot(phi.T).dot(np.linalg.pinv(B.T))"
     ],
     "language": "python",
     "metadata": {},
     "outputs": [],
     "prompt_number": 399
    },
    {
     "cell_type": "code",
     "collapsed": false,
     "input": [
      "U,D,V = np.linalg.svd(C, full_matrices=False)\n",
      "D = np.diag(D)"
     ],
     "language": "python",
     "metadata": {},
     "outputs": [],
     "prompt_number": 400
    },
    {
     "cell_type": "code",
     "collapsed": false,
     "input": [
      "Q_ff = U.dot(D.dot(D.T)).dot(U.T)"
     ],
     "language": "python",
     "metadata": {},
     "outputs": [],
     "prompt_number": 401
    },
    {
     "cell_type": "code",
     "collapsed": false,
     "input": [
      "woodberry = np.linalg.pinv(np.linalg.pinv(D.dot(D.T)) - np.eye(D.shape[0]) / sigma2)\n",
      "\n",
      "BigSig = np.eye(Q_ff.shape[0]) / sigma2 - U.dot(woodberry).dot(U.T) / np.square(sigma2)"
     ],
     "language": "python",
     "metadata": {},
     "outputs": [],
     "prompt_number": 402
    },
    {
     "cell_type": "code",
     "collapsed": false,
     "input": [
      "all_i = set(range(len(df)))\n",
      "sub_i = set(list(indices))"
     ],
     "language": "python",
     "metadata": {},
     "outputs": [],
     "prompt_number": 403
    },
    {
     "cell_type": "code",
     "collapsed": false,
     "input": [
      "predict_i = all_i.difference(sub_i)"
     ],
     "language": "python",
     "metadata": {},
     "outputs": [],
     "prompt_number": 404
    },
    {
     "cell_type": "code",
     "collapsed": false,
     "input": [
      "predict_i = np.array(list(predict_i))"
     ],
     "language": "python",
     "metadata": {},
     "outputs": [],
     "prompt_number": 405
    },
    {
     "cell_type": "code",
     "collapsed": false,
     "input": [
      "Q_op = np.array([k(df.s.irow(0), df.s.irow(i), 1, 1) for i in indices])"
     ],
     "language": "python",
     "metadata": {},
     "outputs": [],
     "prompt_number": 406
    },
    {
     "cell_type": "code",
     "collapsed": false,
     "input": [
      "Q_op.dot(BigSig).dot(np.array(df.yld.irow(indices)))"
     ],
     "language": "python",
     "metadata": {},
     "outputs": [
      {
       "metadata": {},
       "output_type": "pyout",
       "prompt_number": 407,
       "text": [
        "18100327382.026379"
       ]
      }
     ],
     "prompt_number": 407
    },
    {
     "cell_type": "code",
     "collapsed": false,
     "input": [
      "from sklearn import gaussian_process"
     ],
     "language": "python",
     "metadata": {},
     "outputs": [],
     "prompt_number": 421
    },
    {
     "cell_type": "code",
     "collapsed": false,
     "input": [
      "gp = gaussian_process.GaussianProcess()"
     ],
     "language": "python",
     "metadata": {},
     "outputs": [],
     "prompt_number": 422
    },
    {
     "cell_type": "code",
     "collapsed": false,
     "input": [
      "i2 = np.random.randint(0, len(df), size=100)"
     ],
     "language": "python",
     "metadata": {},
     "outputs": [],
     "prompt_number": 423
    },
    {
     "cell_type": "code",
     "collapsed": false,
     "input": [
      "plt.plot(df.lon.irow(i2), df.lat.irow(i2), 'o')"
     ],
     "language": "python",
     "metadata": {},
     "outputs": [
      {
       "metadata": {},
       "output_type": "pyout",
       "prompt_number": 424,
       "text": [
        "[<matplotlib.lines.Line2D at 0x5469d10>]"
       ]
      },
      {
       "metadata": {},
       "output_type": "display_data",
       "png": "[encoded data removed]",
       "text": [
        "<matplotlib.figure.Figure at 0x4844290>"
       ]
      }
     ],
     "prompt_number": 424
    },
    {
     "cell_type": "code",
     "collapsed": false,
     "input": [
      "gp.fit(np.array(df[['lon', 'lat']])[i2,:], np.array(df.yld.irow(i2)))"
     ],
     "language": "python",
     "metadata": {},
     "outputs": [
      {
       "metadata": {},
       "output_type": "pyout",
       "prompt_number": 426,
       "text": [
        "GaussianProcess(beta0=None, corr=<function squared_exponential at 0x5445668>,\n",
        "        normalize=True, nugget=array(2.220446049250313e-15),\n",
        "        optimizer='fmin_cobyla', random_start=1,\n",
        "        random_state=<mtrand.RandomState object at 0x7f1d3f801570>,\n",
        "        regr=<function constant at 0x54452a8>, storage_mode='full',\n",
        "        theta0=array([[ 0.1]]), thetaL=None, thetaU=None, verbose=False)"
       ]
      }
     ],
     "prompt_number": 426
    },
    {
     "cell_type": "code",
     "collapsed": false,
     "input": [
      "yield_p = gp.predict(np.array(df[['lon', 'lat']]))"
     ],
     "language": "python",
     "metadata": {},
     "outputs": [],
     "prompt_number": 428
    },
    {
     "cell_type": "code",
     "collapsed": false,
     "input": [
      "yield_p"
     ],
     "language": "python",
     "metadata": {},
     "outputs": [
      {
       "metadata": {},
       "output_type": "pyout",
       "prompt_number": 430,
       "text": [
        "array([-49486.19080469, -48401.76480099, -47177.93356001, ...,\n",
        "           83.37672568,     74.57218437,     80.44187857])"
       ]
      }
     ],
     "prompt_number": 430
    },
    {
     "cell_type": "code",
     "collapsed": false,
     "input": [],
     "language": "python",
     "metadata": {},
     "outputs": []
    }
   ],
   "metadata": {}
  }
 ]
}