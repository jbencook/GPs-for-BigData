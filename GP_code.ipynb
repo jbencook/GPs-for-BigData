{
 "metadata": {
  "name": ""
 },
 "nbformat": 3,
 "nbformat_minor": 0,
 "worksheets": [
  {
   "cells": [
    {
     "cell_type": "code",
     "collapsed": false,
     "input": [
      "import pandas as pd\n",
      "import numpy as np\n",
      "import time\n",
      "import matplotlib.pyplot as plt\n",
      "import scipy.stats as ss\n",
      "import scipy.optimize as so\n",
      "import sklearn.cross_validation as cv"
     ],
     "language": "python",
     "metadata": {},
     "outputs": [],
     "prompt_number": 1
    },
    {
     "cell_type": "code",
     "collapsed": false,
     "input": [
      "df = pd.read_table('parana.txt', delimiter=' ')"
     ],
     "language": "python",
     "metadata": {},
     "outputs": [],
     "prompt_number": 120
    },
    {
     "cell_type": "code",
     "collapsed": false,
     "input": [
      "X = np.array(df[['east', 'north']])\n",
      "y = np.array(df['data'])"
     ],
     "language": "python",
     "metadata": {},
     "outputs": [],
     "prompt_number": 121
    },
    {
     "cell_type": "code",
     "collapsed": false,
     "input": [
      "X, tstx, y, tsty = cv.train_test_split(X, y)"
     ],
     "language": "python",
     "metadata": {},
     "outputs": [],
     "prompt_number": 122
    },
    {
     "cell_type": "code",
     "collapsed": false,
     "input": [
      "N = X.shape[0]\n",
      "noise = 1e-6"
     ],
     "language": "python",
     "metadata": {},
     "outputs": [],
     "prompt_number": 123
    },
    {
     "cell_type": "code",
     "collapsed": false,
     "input": [
      "plt.plot(X[:,0], X[:,1], '.', alpha=.5)\n",
      "plt.xlim([X[:,0].min() - .001, X[:,0].max() + .001])\n",
      "plt.ylim([X[:,1].min() - .001, X[:,1].max() + .001])\n",
      "plt.show()"
     ],
     "language": "python",
     "metadata": {},
     "outputs": [
      {
       "metadata": {},
       "output_type": "display_data",
       "png": "[encoded data removed]",
       "text": [
        "<matplotlib.figure.Figure at 0x67cb3d0>"
       ]
      }
     ],
     "prompt_number": 124
    },
    {
     "cell_type": "code",
     "collapsed": false,
     "input": [
      "def squared_exponential(xj, *args):\n",
      "    xi, sigma2, length = args\n",
      "    return sigma2 * np.exp(-.5 * np.square(np.linalg.norm(xi - xj)) / length)\n",
      "\n",
      "def exponential(xj, *args):\n",
      "    xi, sigma2, length = args\n",
      "    return sigma2  * np.exp(np.linalg.norm(xi - xj) / length)\n",
      "\n",
      "def matern_32(xj, *args):\n",
      "    xi, sigma2, length = args\n",
      "    return sigma2 * (1 + np.linalg.norm(xi - xj) / length) * np.exp(-np.sqrt(3) * np.linalg.norm(xi - xj) / length)\n",
      "\n",
      "def covariance(f, xi, xj, sigma2, length):\n",
      "    K = np.zeros((xi.shape[0], xj.shape[0]))\n",
      "    for i in xrange(xi.shape[0]):\n",
      "        K[i,:] = np.apply_along_axis(f, 1, xj, xi[i,:], sigma2, length)\n",
      "    return K"
     ],
     "language": "python",
     "metadata": {},
     "outputs": [],
     "prompt_number": 125
    },
    {
     "cell_type": "code",
     "collapsed": false,
     "input": [
      "sigma2, length = 100., 500\n",
      "\n",
      "K = covariance(matern_32, X, X, sigma2, length) + noise * np.eye(X.shape[0])\n",
      "K_test = covariance(matern_32, tstx, X, sigma2, length)\n",
      "\n",
      "yhat = K_test.dot(np.linalg.pinv(K)).dot(y)\n",
      "\n",
      "print np.linalg.norm(tsty - yhat)"
     ],
     "language": "python",
     "metadata": {},
     "outputs": [
      {
       "output_type": "stream",
       "stream": "stdout",
       "text": [
        "149.132898926\n"
       ]
      }
     ],
     "prompt_number": 126
    },
    {
     "cell_type": "code",
     "collapsed": false,
     "input": [
      "plt.plot(tsty, yhat, 'o')"
     ],
     "language": "python",
     "metadata": {},
     "outputs": [
      {
       "metadata": {},
       "output_type": "pyout",
       "prompt_number": 127,
       "text": [
        "[<matplotlib.lines.Line2D at 0x65e3e50>]"
       ]
      },
      {
       "metadata": {},
       "output_type": "display_data",
       "png": "[encoded data removed]",
       "text": [
        "<matplotlib.figure.Figure at 0x6177dd0>"
       ]
      }
     ],
     "prompt_number": 127
    },
    {
     "cell_type": "code",
     "collapsed": false,
     "input": [
      "K = covariance(matern_32, X, X, sigma2, length) + noise * np.eye(X.shape[0])\n",
      "K_test = covariance(matern_32, tstx, X, sigma2, length)"
     ],
     "language": "python",
     "metadata": {},
     "outputs": [],
     "prompt_number": 128
    },
    {
     "cell_type": "code",
     "collapsed": false,
     "input": [
      "r = 10\n",
      "\n",
      "# Step 1: Form the matrix product C \\Omega\n",
      "O = np.random.normal(0, 1, size=(N, r)) / np.sqrt(r)\n",
      "KO = K.dot(O)\n",
      "\n",
      "# Step 2: Compute \\Phi^T, the left factor of the rank-m spectral projection of the small matrix C \\Omega.\n",
      "U, _, _ = np.linalg.svd(KO)\n",
      "phi = U.T\n",
      "\n",
      "# Step 3: C_1 = \\Phi C \\Phi^T\n",
      "C_1 = phi.dot(K).dot(phi.T)\n",
      "\n",
      "# Step 4:  Perform a Cholesky factorization of C1 = B B^T\n",
      "B = np.linalg.cholesky(C_1)\n",
      "\n",
      "# Step 5: Calculate the Nystrom factor C_2 = C^T (B^T)^{\u22121}\n",
      "C_2 = K.dot(phi.T).dot(np.linalg.pinv(B.T))\n",
      "\n",
      "# Step 6: Compute a singular value decomposition for C_2 = U D V^T\n",
      "U, D, V = np.linalg.svd(C_2)\n",
      "D = np.diag(D)\n",
      "\n",
      "# Step 7: Calculate the approximate spectral decomposition for C \\approx C_fr = U D^2 U^T\n",
      "Q_ff = U.dot(D).dot(D).dot(U.T)"
     ],
     "language": "python",
     "metadata": {},
     "outputs": [],
     "prompt_number": 129
    },
    {
     "cell_type": "code",
     "collapsed": false,
     "input": [
      "in_term = np.diag(1 / (np.linalg.pinv(D).dot(np.linalg.pinv(D)) + np.eye(D.shape[0]) / sigma2).diagonal())\n",
      "sigma_inv = np.eye(N) / sigma2  - U.dot(in_term).dot(U.T) / np.square(sigma2)"
     ],
     "language": "python",
     "metadata": {},
     "outputs": [],
     "prompt_number": 130
    },
    {
     "cell_type": "code",
     "collapsed": false,
     "input": [
      "yhat = K_test.dot(sigma_inv).dot(y)\n",
      "\n",
      "print np.linalg.norm(tsty - yhat)"
     ],
     "language": "python",
     "metadata": {},
     "outputs": [
      {
       "output_type": "stream",
       "stream": "stdout",
       "text": [
        "158.646207653\n"
       ]
      }
     ],
     "prompt_number": 131
    },
    {
     "cell_type": "code",
     "collapsed": false,
     "input": [
      "plt.plot(tsty, yhat, 'o')"
     ],
     "language": "python",
     "metadata": {},
     "outputs": [
      {
       "metadata": {},
       "output_type": "pyout",
       "prompt_number": 132,
       "text": [
        "[<matplotlib.lines.Line2D at 0x6bbb8d0>]"
       ]
      },
      {
       "metadata": {},
       "output_type": "display_data",
       "png": "[encoded data removed]",
       "text": [
        "<matplotlib.figure.Figure at 0x65ebdd0>"
       ]
      }
     ],
     "prompt_number": 132
    }
   ],
   "metadata": {}
  }
 ]
}